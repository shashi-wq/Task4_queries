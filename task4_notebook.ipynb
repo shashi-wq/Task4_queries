{
  "nbformat": 4,
  "nbformat_minor": 0,
  "metadata": {
    "colab": {
      "provenance": [],
      "toc_visible": true
    },
    "kernelspec": {
      "name": "python3",
      "display_name": "Python 3"
    },
    "language_info": {
      "name": "python"
    }
  },
  "cells": [
    {
      "cell_type": "code",
      "execution_count": 1,
      "metadata": {
        "id": "aajfkgoCQT_v"
      },
      "outputs": [],
      "source": [
        "import sqlite3\n",
        "import pandas as pd\n"
      ]
    },
    {
      "cell_type": "code",
      "source": [
        "# Create an in-memory SQLite database\n",
        "conn = sqlite3.connect(\":memory:\")\n",
        "cursor = conn.cursor()\n"
      ],
      "metadata": {
        "id": "Dx0yjO_PQj_o"
      },
      "execution_count": 2,
      "outputs": []
    },
    {
      "cell_type": "code",
      "source": [
        "cursor.execute(\"\"\"\n",
        "CREATE TABLE customers (\n",
        "  customer_id INTEGER PRIMARY KEY,\n",
        "  customer_name TEXT,\n",
        "  email TEXT,\n",
        "  segment TEXT,\n",
        "  region TEXT\n",
        ");\n",
        "\"\"\")\n",
        "\n",
        "cursor.execute(\"\"\"\n",
        "CREATE TABLE orders (\n",
        "  order_id INTEGER PRIMARY KEY,\n",
        "  order_date TEXT,\n",
        "  customer_id INTEGER,\n",
        "  order_total REAL,\n",
        "  discount REAL,\n",
        "  shipping_cost REAL,\n",
        "  FOREIGN KEY (customer_id) REFERENCES customers(customer_id)\n",
        ");\n",
        "\"\"\")\n",
        "\n",
        "cursor.execute(\"\"\"\n",
        "CREATE TABLE order_items (\n",
        "  order_item_id INTEGER PRIMARY KEY,\n",
        "  order_id INTEGER,\n",
        "  product_id INTEGER,\n",
        "  quantity INTEGER,\n",
        "  item_price REAL,\n",
        "  item_total REAL,\n",
        "  FOREIGN KEY (order_id) REFERENCES orders(order_id)\n",
        ");\n",
        "\"\"\")\n"
      ],
      "metadata": {
        "colab": {
          "base_uri": "https://localhost:8080/"
        },
        "id": "_e_jMaPbQnm2",
        "outputId": "9a63c8ea-741b-40c8-d228-ba9ac04bd859"
      },
      "execution_count": 3,
      "outputs": [
        {
          "output_type": "execute_result",
          "data": {
            "text/plain": [
              "<sqlite3.Cursor at 0x7ba0b7e40dc0>"
            ]
          },
          "metadata": {},
          "execution_count": 3
        }
      ]
    },
    {
      "cell_type": "code",
      "source": [
        "cursor.execute(\"INSERT INTO customers VALUES (1, 'Alice', 'alice@example.com', 'Consumer', 'West')\")\n",
        "cursor.execute(\"INSERT INTO customers VALUES (2, 'Bob', 'bob@example.com', 'Corporate', 'East')\")\n",
        "\n",
        "cursor.execute(\"INSERT INTO orders VALUES (101, '2024-01-10', 1, 500, 50, 20)\")\n",
        "cursor.execute(\"INSERT INTO orders VALUES (102, '2024-01-12', 2, 1200, 100, 30)\")\n",
        "\n",
        "cursor.execute(\"INSERT INTO order_items VALUES (1, 101, 201, 2, 200, 400)\")\n",
        "cursor.execute(\"INSERT INTO order_items VALUES (2, 102, 202, 1, 1200, 1200)\")\n",
        "\n",
        "conn.commit()\n"
      ],
      "metadata": {
        "id": "SBPNixDQQnwF"
      },
      "execution_count": 4,
      "outputs": []
    },
    {
      "cell_type": "code",
      "source": [
        "# Example: Total sales per customer\n",
        "query = \"\"\"\n",
        "SELECT c.customer_name, SUM(o.order_total) AS total_spent\n",
        "FROM customers c\n",
        "JOIN orders o ON c.customer_id = o.customer_id\n",
        "GROUP BY c.customer_name;\n",
        "\"\"\"\n",
        "\n",
        "df = pd.read_sql_query(query, conn)\n",
        "print(df)\n"
      ],
      "metadata": {
        "colab": {
          "base_uri": "https://localhost:8080/"
        },
        "id": "M3RkeOgVQv9B",
        "outputId": "06a3e487-f6ab-4812-c3d6-f9002984fdb7"
      },
      "execution_count": 5,
      "outputs": [
        {
          "output_type": "stream",
          "name": "stdout",
          "text": [
            "  customer_name  total_spent\n",
            "0         Alice        500.0\n",
            "1           Bob       1200.0\n"
          ]
        }
      ]
    },
    {
      "cell_type": "code",
      "source": [
        "sql_code = \"\"\"\n",
        "-- Total sales by customer\n",
        "SELECT c.customer_name, SUM(o.order_total) AS total_spent\n",
        "FROM customers c\n",
        "JOIN orders o ON c.customer_id = o.customer_id\n",
        "GROUP BY c.customer_name;\n",
        "\n",
        "-- Orders above 1000\n",
        "SELECT order_id, order_total\n",
        "FROM orders\n",
        "WHERE order_total > 1000;\n",
        "\"\"\"\n",
        "\n",
        "with open(\"task3_queries.sql\", \"w\") as f:\n",
        "    f.write(sql_code)\n"
      ],
      "metadata": {
        "id": "wkllrUGBQ0rP"
      },
      "execution_count": 7,
      "outputs": []
    },
    {
      "cell_type": "code",
      "source": [
        "with open(\"task3_queries.sql\", \"w\") as f:\n",
        "    f.write(sql_code)\n"
      ],
      "metadata": {
        "id": "uhMN5vWVRSY7"
      },
      "execution_count": 8,
      "outputs": []
    },
    {
      "cell_type": "code",
      "source": [
        "from google.colab import files\n",
        "files.download(\"task3_queries.sql\")\n"
      ],
      "metadata": {
        "colab": {
          "base_uri": "https://localhost:8080/",
          "height": 17
        },
        "id": "9dzzZdd6RTQV",
        "outputId": "4e9a91f1-7829-472c-be6a-afc7039760f3"
      },
      "execution_count": 9,
      "outputs": [
        {
          "output_type": "display_data",
          "data": {
            "text/plain": [
              "<IPython.core.display.Javascript object>"
            ],
            "application/javascript": [
              "\n",
              "    async function download(id, filename, size) {\n",
              "      if (!google.colab.kernel.accessAllowed) {\n",
              "        return;\n",
              "      }\n",
              "      const div = document.createElement('div');\n",
              "      const label = document.createElement('label');\n",
              "      label.textContent = `Downloading \"${filename}\": `;\n",
              "      div.appendChild(label);\n",
              "      const progress = document.createElement('progress');\n",
              "      progress.max = size;\n",
              "      div.appendChild(progress);\n",
              "      document.body.appendChild(div);\n",
              "\n",
              "      const buffers = [];\n",
              "      let downloaded = 0;\n",
              "\n",
              "      const channel = await google.colab.kernel.comms.open(id);\n",
              "      // Send a message to notify the kernel that we're ready.\n",
              "      channel.send({})\n",
              "\n",
              "      for await (const message of channel.messages) {\n",
              "        // Send a message to notify the kernel that we're ready.\n",
              "        channel.send({})\n",
              "        if (message.buffers) {\n",
              "          for (const buffer of message.buffers) {\n",
              "            buffers.push(buffer);\n",
              "            downloaded += buffer.byteLength;\n",
              "            progress.value = downloaded;\n",
              "          }\n",
              "        }\n",
              "      }\n",
              "      const blob = new Blob(buffers, {type: 'application/binary'});\n",
              "      const a = document.createElement('a');\n",
              "      a.href = window.URL.createObjectURL(blob);\n",
              "      a.download = filename;\n",
              "      div.appendChild(a);\n",
              "      a.click();\n",
              "      div.remove();\n",
              "    }\n",
              "  "
            ]
          },
          "metadata": {}
        },
        {
          "output_type": "display_data",
          "data": {
            "text/plain": [
              "<IPython.core.display.Javascript object>"
            ],
            "application/javascript": [
              "download(\"download_32283588-2db2-4fed-85f4-736df5c0ba5f\", \"task3_queries.sql\", 265)"
            ]
          },
          "metadata": {}
        }
      ]
    },
    {
      "cell_type": "code",
      "source": [
        "df.to_csv(\"query_output.csv\", index=False)\n",
        "files.download(\"query_output.csv\")\n"
      ],
      "metadata": {
        "id": "2KZ1Seq7SEI1"
      },
      "execution_count": 13,
      "outputs": []
    },
    {
      "cell_type": "code",
      "source": [],
      "metadata": {
        "id": "0PZDdAv4SE_R"
      },
      "execution_count": 13,
      "outputs": []
    }
  ]
}